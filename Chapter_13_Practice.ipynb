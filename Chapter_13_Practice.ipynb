{
  "cells": [
    {
      "cell_type": "code",
      "execution_count": 3,
      "metadata": {
        "id": "YwNXiG1Bfuai"
      },
      "outputs": [],
      "source": [
        "from sklearn.pipeline import Pipeline\n",
        "from sklearn.preprocessing import StandardScaler, OneHotEncoder, PolynomialFeatures\n",
        "from sklearn.linear_model import LinearRegression\n",
        "from sklearn.model_selection import train_test_split\n",
        "from sklearn.metrics import r2_score\n",
        "from sklearn.metrics import mean_squared_error\n",
        "from sklearn.compose import ColumnTransformer\n",
        "from sklearn.model_selection import cross_val_score\n",
        "from sklearn.model_selection import GridSearchCV\n",
        "import pandas as pd\n",
        "import numpy as np\n",
        "ames = pd.read_csv(\"/content/AmesHousing.csv\")\n"
      ]
    },
    {
      "cell_type": "code",
      "execution_count": 4,
      "metadata": {
        "id": "Qa_cOHRKf7kl"
      },
      "outputs": [],
      "source": [
        "X = ames.drop(\"SalePrice\", axis = 1)\n",
        "y = ames[\"SalePrice\"]\n",
        "X_train, X_test, y_train, y_test = train_test_split(X, y)"
      ]
    },
    {
      "cell_type": "code",
      "execution_count": 6,
      "metadata": {
        "colab": {
          "base_uri": "https://localhost:8080/"
        },
        "id": "G69m3wwHf79Q",
        "outputId": "f772d495-8d19-4415-c62d-6caad3657869"
      },
      "outputs": [
        {
          "data": {
            "text/plain": [
              "52405.70983772867"
            ]
          },
          "execution_count": 6,
          "metadata": {},
          "output_type": "execute_result"
        }
      ],
      "source": [
        "ct1 = ColumnTransformer(\n",
        "  [\n",
        "    #(\"dummify\", OneHotEncoder(sparse_output = False), [\"Bldg Type\"]),\n",
        "    (\"standardize\", StandardScaler(), [\"Gr Liv Area\", \"TotRms AbvGrd\"])\n",
        "  ],\n",
        "  remainder = \"drop\"\n",
        ")\n",
        "#remainder drop means any columns we are not calling to drop those columns and not use them\n",
        "\n",
        "lr_pipeline1 = Pipeline(\n",
        "  [(\"preprocessing\", ct1),\n",
        "  (\"linear_regression\", LinearRegression())]\n",
        ")\n",
        "\n",
        "lr_pipeline1\n",
        "scores = cross_val_score(lr_pipeline1, X, y, cv=5, scoring='r2')\n",
        "scores.mean()\n",
        "\n",
        "lr_fittd = lr_pipeline1.fit(X_train, y_train)\n",
        "y_pred = lr_pipeline1.predict(X_test)\n",
        "mse = mean_squared_error(y_test, y_pred)\n",
        "npsqrt = np.sqrt(mse)\n",
        "npsqrt\n"
      ]
    },
    {
      "cell_type": "code",
      "execution_count": 7,
      "metadata": {
        "colab": {
          "base_uri": "https://localhost:8080/"
        },
        "id": "0z5w6qg-YYlY",
        "outputId": "1fd90c44-1895-4009-9019-0d436c363100"
      },
      "outputs": [
        {
          "data": {
            "text/plain": [
              "0.504208752508862"
            ]
          },
          "execution_count": 7,
          "metadata": {},
          "output_type": "execute_result"
        }
      ],
      "source": [
        "scores = cross_val_score(lr_pipeline1, X, y, cv=5, scoring='r2')\n",
        "scores.mean()"
      ]
    },
    {
      "cell_type": "code",
      "execution_count": 8,
      "metadata": {
        "colab": {
          "base_uri": "https://localhost:8080/"
        },
        "id": "2LVZV5Rkf_A7",
        "outputId": "51060988-5e39-4e29-d46a-5555bb537a1a"
      },
      "outputs": [
        {
          "data": {
            "text/plain": [
              "52405.70983772867"
            ]
          },
          "execution_count": 8,
          "metadata": {},
          "output_type": "execute_result"
        }
      ],
      "source": [
        "ct2 = ColumnTransformer(\n",
        "  [\n",
        "    (\"dummify\", OneHotEncoder(sparse_output = False), [\"Bldg Type\"]),\n",
        "    (\"standardize\", StandardScaler(), [\"Gr Liv Area\", \"TotRms AbvGrd\"])\n",
        "  ],\n",
        "  remainder = \"drop\"\n",
        ")\n",
        "#remainder drop means any columns we are not calling to drop those columns and not use them\n",
        "\n",
        "lr_pipeline2 = Pipeline(\n",
        "  [(\"preprocessing\", ct2),\n",
        "  (\"linear_regression\", LinearRegression())]\n",
        ")\n",
        "\n",
        "lr_pipeline2\n",
        "\n",
        "lr_fitted = lr_pipeline2.fit(X_train, y_train)\n",
        "y_pred = lr_pipeline1.predict(X_test)\n",
        "mse = mean_squared_error(y_test, y_pred)\n",
        "npsqrt = np.sqrt(mse)\n",
        "npsqrt\n",
        "\n",
        "\n",
        "\n"
      ]
    },
    {
      "cell_type": "code",
      "execution_count": 13,
      "metadata": {
        "colab": {
          "base_uri": "https://localhost:8080/"
        },
        "id": "xc5onyh6Y3yb",
        "outputId": "5d32a3b8-9057-4494-d3a1-47c56500a237"
      },
      "outputs": [
        {
          "data": {
            "text/plain": [
              "-54140.66302092876"
            ]
          },
          "execution_count": 13,
          "metadata": {},
          "output_type": "execute_result"
        }
      ],
      "source": [
        "#scores = cross_val_score(lr_pipeline2, X, y, cv=5, scoring='r2')\n",
        "scores = cross_val_score(lr_pipeline2, X, y, cv=5, scoring='neg_root_mean_squared_error')\n",
        "scores.mean()"
      ]
    },
    {
      "cell_type": "code",
      "execution_count": 15,
      "metadata": {
        "colab": {
          "base_uri": "https://localhost:8080/"
        },
        "id": "YngRv9RcgA2T",
        "outputId": "537becfc-17d6-4bc9-f11d-b6b1c1fe3ab2"
      },
      "outputs": [
        {
          "data": {
            "text/plain": [
              "49729.96593682053"
            ]
          },
          "execution_count": 15,
          "metadata": {},
          "output_type": "execute_result"
        }
      ],
      "source": [
        "ct3 = ColumnTransformer(\n",
        "  [(\"dummify\", OneHotEncoder(sparse_output = False), [\"Bldg Type\"]),\n",
        "    (\"standardize\", StandardScaler(), [\"Gr Liv Area\"])\n",
        "  ],\n",
        "  remainder = \"passthrough\"\n",
        ").set_output(transform = \"pandas\")\n",
        "\n",
        "ct3.fit_transform(X)\n",
        "\n",
        "ct_inter = ColumnTransformer(\n",
        "  [\n",
        "    (\"interaction\", PolynomialFeatures(interaction_only = True), [\"standardize__Gr Liv Area\", \"dummify__Bldg Type_1Fam\"]),\n",
        "    (\"interaction2\", PolynomialFeatures(interaction_only = True), [\"standardize__Gr Liv Area\", \"dummify__Bldg Type_TwnhsE\"]),\n",
        "    (\"interaction3\", PolynomialFeatures(interaction_only = True), [\"standardize__Gr Liv Area\", \"dummify__Bldg Type_Twnhs\"]),\n",
        "    (\"interaction4\", PolynomialFeatures(interaction_only = True), [\"standardize__Gr Liv Area\", \"dummify__Bldg Type_Duplex\"]),\n",
        "    (\"interaction5\", PolynomialFeatures(interaction_only = True), [\"standardize__Gr Liv Area\", \"dummify__Bldg Type_2fmCon\"]),\n",
        "  ],\n",
        "  remainder = \"drop\"\n",
        ").set_output(transform = \"pandas\")\n",
        "\n",
        "\n",
        "lr_pipeline3 = Pipeline(\n",
        "  [(\"preprocessing\", ct3),\n",
        "    (\"preprocessing2\", ct_inter),\n",
        "  (\"linear_regression\", LinearRegression())])\n",
        "lr_pipeline3\n",
        "\n",
        "\n",
        "lr_fitted = lr_pipeline3.fit(X_train, y_train)\n",
        "y_pred = lr_pipeline3.predict(X_test)\n",
        "mse = mean_squared_error(y_test, y_pred)\n",
        "npsqrt = np.sqrt(mse)\n",
        "npsqrt\n"
      ]
    },
    {
      "cell_type": "code",
      "execution_count": 16,
      "metadata": {
        "colab": {
          "base_uri": "https://localhost:8080/"
        },
        "id": "-Sb17vP_ZR6_",
        "outputId": "cc5c6c78-088a-4f4c-844b-1e9730631ab8"
      },
      "outputs": [
        {
          "data": {
            "text/plain": [
              "-53435.02493709766"
            ]
          },
          "execution_count": 16,
          "metadata": {},
          "output_type": "execute_result"
        }
      ],
      "source": [
        "scores = cross_val_score(lr_pipeline3, X, y, cv=5, scoring='neg_root_mean_squared_error')\n",
        "scores.mean()"
      ]
    },
    {
      "cell_type": "code",
      "execution_count": 17,
      "metadata": {
        "colab": {
          "base_uri": "https://localhost:8080/"
        },
        "id": "x2QHsDh7html",
        "outputId": "326a2560-c412-44d2-9572-f318f7ae1020"
      },
      "outputs": [
        {
          "data": {
            "text/plain": [
              "52577.34743089861"
            ]
          },
          "execution_count": 17,
          "metadata": {},
          "output_type": "execute_result"
        }
      ],
      "source": [
        "\n",
        "\n",
        "# Combine the transformations into one ColumnTransformer\n",
        "ct_combined = ColumnTransformer(\n",
        "    [\n",
        "        (\"dummify\", OneHotEncoder(sparse_output=False), [\"Bldg Type\"]),\n",
        "        (\"poly_totrms\", PolynomialFeatures(degree=5), [\"TotRms AbvGrd\"]),\n",
        "        (\"poly_grlivarea\", PolynomialFeatures(degree=5), [\"Gr Liv Area\"])\n",
        "    ],\n",
        "    remainder=\"drop\"\n",
        ").set_output(transform=\"pandas\")\n",
        "\n",
        "# Create pipeline with the combined ColumnTransformer\n",
        "lr_pipeline_14 = Pipeline(\n",
        "    [\n",
        "        (\"preprocessing\", ct_combined),\n",
        "        (\"linear_regression\", LinearRegression())\n",
        "    ]\n",
        ").set_output(transform=\"pandas\")\n",
        "\n",
        "\n",
        "\n",
        "lr_fitted = lr_pipeline_14.fit(X_train, y_train)\n",
        "y_pred = lr_pipeline_14.predict(X_test)\n",
        "mse = mean_squared_error(y_test, y_pred)\n",
        "npsqrt = np.sqrt(mse)\n",
        "npsqrt\n"
      ]
    },
    {
      "cell_type": "code",
      "execution_count": 19,
      "metadata": {
        "colab": {
          "base_uri": "https://localhost:8080/"
        },
        "id": "aUTpZ3dhcUvk",
        "outputId": "546e5f47-debb-49a3-8912-c28d6da32387"
      },
      "outputs": [
        {
          "data": {
            "text/plain": [
              "-56303.01901575634"
            ]
          },
          "execution_count": 19,
          "metadata": {},
          "output_type": "execute_result"
        }
      ],
      "source": [
        "# Perform cross-validation\n",
        "scores = cross_val_score(lr_pipeline_14, X, y, cv=5, scoring='neg_root_mean_squared_error')\n",
        "scores.mean()"
      ]
    },
    {
      "cell_type": "markdown",
      "metadata": {
        "id": "uZQRUcV8gS8N"
      },
      "source": [
        "Consider one hundred modeling options for house price:\n",
        "\n",
        "\n",
        "House size, trying degrees 1 through 10\n",
        "\n",
        "Number of rooms, trying degrees 1 through 10\n",
        "\n",
        "Building Type\n",
        "\n",
        "Hint: The dictionary of possible values that you make to give to GridSearchCV will have two elements instead of one.\n",
        "\n",
        "Q1: Which model performed the best?\n",
        "\n",
        "Q2: What downsides do you see of trying all possible model options? How might you go about choosing a smaller number of tuning values to try?\n",
        "\n"
      ]
    },
    {
      "cell_type": "code",
      "execution_count": 21,
      "metadata": {
        "id": "AVS-zy6djZbj"
      },
      "outputs": [],
      "source": [
        "from sklearn.model_selection import GridSearchCV\n",
        "\n",
        "ct_poly = ColumnTransformer(\n",
        "  [\n",
        "    (\"dummify\", OneHotEncoder(sparse_output = False), [\"Bldg Type\"]),\n",
        "    (\"polynomial\", PolynomialFeatures(), [\"Gr Liv Area\"]),\n",
        "    (\"polynomial2\", PolynomialFeatures(), [\"TotRms AbvGrd\"])\n",
        "  ],\n",
        "  remainder = \"drop\"\n",
        ")\n",
        "\n",
        "lr_pipeline_poly = Pipeline(\n",
        "  [(\"preprocessing\", ct_poly),\n",
        "  (\"linear_regression\", LinearRegression())]\n",
        ").set_output(transform=\"pandas\")\n",
        "\n",
        "degrees = {'preprocessing__polynomial__degree': np.arange(1, 11),\n",
        "           \"preprocessing__polynomial2__degree\": np.arange(1, 11)}\n",
        "\n",
        "gscv = GridSearchCV(lr_pipeline_poly, degrees, cv = 5, scoring='r2')"
      ]
    },
    {
      "cell_type": "code",
      "execution_count": 22,
      "metadata": {
        "colab": {
          "base_uri": "https://localhost:8080/"
        },
        "id": "Y57J7BRClJiS",
        "outputId": "c602dcbe-494b-432c-a669-ce83e3480475"
      },
      "outputs": [
        {
          "data": {
            "text/plain": [
              "array([ 5.32882439e-01,  5.37471938e-01,  5.57640609e-01,  5.49239651e-01,\n",
              "        4.51860123e-01,  3.33837438e-01,  2.93217770e-02, -9.68094802e-01,\n",
              "       -4.54560839e+00, -1.61879353e+01,  5.32382847e-01,  5.33567353e-01,\n",
              "        5.56857257e-01,  5.50157883e-01,  4.51860121e-01,  3.33837438e-01,\n",
              "        2.93217540e-02, -9.68096194e-01, -4.54560441e+00, -1.61879378e+01,\n",
              "        5.35924169e-01,  5.34134134e-01,  5.54039049e-01,  5.50627573e-01,\n",
              "        5.05207779e-01,  3.33837438e-01,  2.93216723e-02, -9.68095979e-01,\n",
              "       -4.54560441e+00, -1.61879378e+01,  5.41528749e-01,  5.35417599e-01,\n",
              "        5.50392432e-01,  5.56932107e-01,  4.96715171e-01,  3.33837440e-01,\n",
              "        2.93216921e-02, -9.68095979e-01, -4.54560441e+00, -1.61879378e+01,\n",
              "        5.41066183e-01,  5.30267305e-01,  5.46549255e-01,  5.56413549e-01,\n",
              "        4.92694119e-01,  3.33837437e-01,  2.93216921e-02, -9.68095979e-01,\n",
              "       -4.54560441e+00, -1.61879378e+01,  5.34862257e-01,  5.33313563e-01,\n",
              "        5.45170683e-01,  5.53130817e-01,  5.22434318e-01,  4.86493139e-01,\n",
              "        2.93216921e-02, -9.68095979e-01, -4.54560441e+00, -1.61879378e+01,\n",
              "        8.00693445e-02,  3.52498608e-01,  4.48399480e-01,  5.53966728e-01,\n",
              "        5.17853114e-01,  4.91896729e-01,  2.93216920e-02, -9.68095979e-01,\n",
              "       -4.54560441e+00, -1.61879378e+01, -1.09028712e+00, -1.77038175e-01,\n",
              "        4.29702742e-01,  2.78917809e-01,  4.35855673e-01,  3.12002168e-01,\n",
              "        2.93218229e-02, -9.68095979e-01, -4.54560441e+00, -1.61879378e+01,\n",
              "        2.70155128e-01,  4.91276328e-01, -1.04472915e+00,  3.95974718e-02,\n",
              "        4.19560785e-01,  2.58416770e-01,  3.62824939e-01, -9.68095979e-01,\n",
              "       -4.54560441e+00, -1.61887601e+01, -1.84221203e+02, -1.89473656e+02,\n",
              "       -3.95935956e+02, -1.11059883e-01,  3.07500900e-01,  5.40193414e-02,\n",
              "        4.00105929e-01, -9.68095980e-01, -4.54561019e+00, -1.61887601e+01])"
            ]
          },
          "execution_count": 22,
          "metadata": {},
          "output_type": "execute_result"
        }
      ],
      "source": [
        "gscv_fitted = gscv.fit(X, y)\n",
        "\n",
        "gscv_fitted.cv_results_\n",
        "gscv_fitted.cv_results_[\"mean_test_score\"]"
      ]
    },
    {
      "cell_type": "code",
      "execution_count": 24,
      "metadata": {
        "colab": {
          "base_uri": "https://localhost:8080/",
          "height": 424
        },
        "id": "n7g3Ty5-dAxv",
        "outputId": "1c02f109-bc51-42b1-8061-6bc88ce9948d"
      },
      "outputs": [
        {
          "data": {
            "application/vnd.google.colaboratory.intrinsic+json": {
              "summary": "{\n  \"name\": \"df\",\n  \"rows\": 100,\n  \"fields\": [\n    {\n      \"column\": \"preprocessing__polynomial2__degree\",\n      \"properties\": {\n        \"dtype\": \"number\",\n        \"std\": 2,\n        \"min\": 1,\n        \"max\": 10,\n        \"num_unique_values\": 10,\n        \"samples\": [\n          8,\n          4,\n          7\n        ],\n        \"semantic_type\": \"\",\n        \"description\": \"\"\n      }\n    },\n    {\n      \"column\": \"preprocessing__polynomial__degree\",\n      \"properties\": {\n        \"dtype\": \"number\",\n        \"std\": 2,\n        \"min\": 1,\n        \"max\": 10,\n        \"num_unique_values\": 10,\n        \"samples\": [\n          9,\n          4,\n          6\n        ],\n        \"semantic_type\": \"\",\n        \"description\": \"\"\n      }\n    },\n    {\n      \"column\": \"score\",\n      \"properties\": {\n        \"dtype\": \"number\",\n        \"std\": 47.1572588230009,\n        \"min\": -395.93595552520003,\n        \"max\": 0.5576406091388734,\n        \"num_unique_values\": 91,\n        \"samples\": [\n          0.3628249389088972,\n          0.532882439069205,\n          0.02932182289828298\n        ],\n        \"semantic_type\": \"\",\n        \"description\": \"\"\n      }\n    }\n  ]\n}",
              "type": "dataframe",
              "variable_name": "df"
            },
            "text/html": [
              "\n",
              "  <div id=\"df-b0287aa0-2874-48ea-bbb6-60e9a928f386\" class=\"colab-df-container\">\n",
              "    <div>\n",
              "<style scoped>\n",
              "    .dataframe tbody tr th:only-of-type {\n",
              "        vertical-align: middle;\n",
              "    }\n",
              "\n",
              "    .dataframe tbody tr th {\n",
              "        vertical-align: top;\n",
              "    }\n",
              "\n",
              "    .dataframe thead th {\n",
              "        text-align: right;\n",
              "    }\n",
              "</style>\n",
              "<table border=\"1\" class=\"dataframe\">\n",
              "  <thead>\n",
              "    <tr style=\"text-align: right;\">\n",
              "      <th></th>\n",
              "      <th>preprocessing__polynomial2__degree</th>\n",
              "      <th>preprocessing__polynomial__degree</th>\n",
              "      <th>score</th>\n",
              "    </tr>\n",
              "  </thead>\n",
              "  <tbody>\n",
              "    <tr>\n",
              "      <th>2</th>\n",
              "      <td>1</td>\n",
              "      <td>3</td>\n",
              "      <td>0.557641</td>\n",
              "    </tr>\n",
              "    <tr>\n",
              "      <th>33</th>\n",
              "      <td>4</td>\n",
              "      <td>4</td>\n",
              "      <td>0.556932</td>\n",
              "    </tr>\n",
              "    <tr>\n",
              "      <th>12</th>\n",
              "      <td>2</td>\n",
              "      <td>3</td>\n",
              "      <td>0.556857</td>\n",
              "    </tr>\n",
              "    <tr>\n",
              "      <th>43</th>\n",
              "      <td>5</td>\n",
              "      <td>4</td>\n",
              "      <td>0.556414</td>\n",
              "    </tr>\n",
              "    <tr>\n",
              "      <th>22</th>\n",
              "      <td>3</td>\n",
              "      <td>3</td>\n",
              "      <td>0.554039</td>\n",
              "    </tr>\n",
              "    <tr>\n",
              "      <th>...</th>\n",
              "      <td>...</td>\n",
              "      <td>...</td>\n",
              "      <td>...</td>\n",
              "    </tr>\n",
              "    <tr>\n",
              "      <th>89</th>\n",
              "      <td>9</td>\n",
              "      <td>10</td>\n",
              "      <td>-16.188760</td>\n",
              "    </tr>\n",
              "    <tr>\n",
              "      <th>99</th>\n",
              "      <td>10</td>\n",
              "      <td>10</td>\n",
              "      <td>-16.188760</td>\n",
              "    </tr>\n",
              "    <tr>\n",
              "      <th>90</th>\n",
              "      <td>10</td>\n",
              "      <td>1</td>\n",
              "      <td>-184.221203</td>\n",
              "    </tr>\n",
              "    <tr>\n",
              "      <th>91</th>\n",
              "      <td>10</td>\n",
              "      <td>2</td>\n",
              "      <td>-189.473656</td>\n",
              "    </tr>\n",
              "    <tr>\n",
              "      <th>92</th>\n",
              "      <td>10</td>\n",
              "      <td>3</td>\n",
              "      <td>-395.935956</td>\n",
              "    </tr>\n",
              "  </tbody>\n",
              "</table>\n",
              "<p>100 rows × 3 columns</p>\n",
              "</div>\n",
              "    <div class=\"colab-df-buttons\">\n",
              "\n",
              "  <div class=\"colab-df-container\">\n",
              "    <button class=\"colab-df-convert\" onclick=\"convertToInteractive('df-b0287aa0-2874-48ea-bbb6-60e9a928f386')\"\n",
              "            title=\"Convert this dataframe to an interactive table.\"\n",
              "            style=\"display:none;\">\n",
              "\n",
              "  <svg xmlns=\"http://www.w3.org/2000/svg\" height=\"24px\" viewBox=\"0 -960 960 960\">\n",
              "    <path d=\"M120-120v-720h720v720H120Zm60-500h600v-160H180v160Zm220 220h160v-160H400v160Zm0 220h160v-160H400v160ZM180-400h160v-160H180v160Zm440 0h160v-160H620v160ZM180-180h160v-160H180v160Zm440 0h160v-160H620v160Z\"/>\n",
              "  </svg>\n",
              "    </button>\n",
              "\n",
              "  <style>\n",
              "    .colab-df-container {\n",
              "      display:flex;\n",
              "      gap: 12px;\n",
              "    }\n",
              "\n",
              "    .colab-df-convert {\n",
              "      background-color: #E8F0FE;\n",
              "      border: none;\n",
              "      border-radius: 50%;\n",
              "      cursor: pointer;\n",
              "      display: none;\n",
              "      fill: #1967D2;\n",
              "      height: 32px;\n",
              "      padding: 0 0 0 0;\n",
              "      width: 32px;\n",
              "    }\n",
              "\n",
              "    .colab-df-convert:hover {\n",
              "      background-color: #E2EBFA;\n",
              "      box-shadow: 0px 1px 2px rgba(60, 64, 67, 0.3), 0px 1px 3px 1px rgba(60, 64, 67, 0.15);\n",
              "      fill: #174EA6;\n",
              "    }\n",
              "\n",
              "    .colab-df-buttons div {\n",
              "      margin-bottom: 4px;\n",
              "    }\n",
              "\n",
              "    [theme=dark] .colab-df-convert {\n",
              "      background-color: #3B4455;\n",
              "      fill: #D2E3FC;\n",
              "    }\n",
              "\n",
              "    [theme=dark] .colab-df-convert:hover {\n",
              "      background-color: #434B5C;\n",
              "      box-shadow: 0px 1px 3px 1px rgba(0, 0, 0, 0.15);\n",
              "      filter: drop-shadow(0px 1px 2px rgba(0, 0, 0, 0.3));\n",
              "      fill: #FFFFFF;\n",
              "    }\n",
              "  </style>\n",
              "\n",
              "    <script>\n",
              "      const buttonEl =\n",
              "        document.querySelector('#df-b0287aa0-2874-48ea-bbb6-60e9a928f386 button.colab-df-convert');\n",
              "      buttonEl.style.display =\n",
              "        google.colab.kernel.accessAllowed ? 'block' : 'none';\n",
              "\n",
              "      async function convertToInteractive(key) {\n",
              "        const element = document.querySelector('#df-b0287aa0-2874-48ea-bbb6-60e9a928f386');\n",
              "        const dataTable =\n",
              "          await google.colab.kernel.invokeFunction('convertToInteractive',\n",
              "                                                    [key], {});\n",
              "        if (!dataTable) return;\n",
              "\n",
              "        const docLinkHtml = 'Like what you see? Visit the ' +\n",
              "          '<a target=\"_blank\" href=https://colab.research.google.com/notebooks/data_table.ipynb>data table notebook</a>'\n",
              "          + ' to learn more about interactive tables.';\n",
              "        element.innerHTML = '';\n",
              "        dataTable['output_type'] = 'display_data';\n",
              "        await google.colab.output.renderOutput(dataTable, element);\n",
              "        const docLink = document.createElement('div');\n",
              "        docLink.innerHTML = docLinkHtml;\n",
              "        element.appendChild(docLink);\n",
              "      }\n",
              "    </script>\n",
              "  </div>\n",
              "\n",
              "\n",
              "<div id=\"df-3b427bab-e633-4efe-82f1-94d2f95c33cc\">\n",
              "  <button class=\"colab-df-quickchart\" onclick=\"quickchart('df-3b427bab-e633-4efe-82f1-94d2f95c33cc')\"\n",
              "            title=\"Suggest charts\"\n",
              "            style=\"display:none;\">\n",
              "\n",
              "<svg xmlns=\"http://www.w3.org/2000/svg\" height=\"24px\"viewBox=\"0 0 24 24\"\n",
              "     width=\"24px\">\n",
              "    <g>\n",
              "        <path d=\"M19 3H5c-1.1 0-2 .9-2 2v14c0 1.1.9 2 2 2h14c1.1 0 2-.9 2-2V5c0-1.1-.9-2-2-2zM9 17H7v-7h2v7zm4 0h-2V7h2v10zm4 0h-2v-4h2v4z\"/>\n",
              "    </g>\n",
              "</svg>\n",
              "  </button>\n",
              "\n",
              "<style>\n",
              "  .colab-df-quickchart {\n",
              "      --bg-color: #E8F0FE;\n",
              "      --fill-color: #1967D2;\n",
              "      --hover-bg-color: #E2EBFA;\n",
              "      --hover-fill-color: #174EA6;\n",
              "      --disabled-fill-color: #AAA;\n",
              "      --disabled-bg-color: #DDD;\n",
              "  }\n",
              "\n",
              "  [theme=dark] .colab-df-quickchart {\n",
              "      --bg-color: #3B4455;\n",
              "      --fill-color: #D2E3FC;\n",
              "      --hover-bg-color: #434B5C;\n",
              "      --hover-fill-color: #FFFFFF;\n",
              "      --disabled-bg-color: #3B4455;\n",
              "      --disabled-fill-color: #666;\n",
              "  }\n",
              "\n",
              "  .colab-df-quickchart {\n",
              "    background-color: var(--bg-color);\n",
              "    border: none;\n",
              "    border-radius: 50%;\n",
              "    cursor: pointer;\n",
              "    display: none;\n",
              "    fill: var(--fill-color);\n",
              "    height: 32px;\n",
              "    padding: 0;\n",
              "    width: 32px;\n",
              "  }\n",
              "\n",
              "  .colab-df-quickchart:hover {\n",
              "    background-color: var(--hover-bg-color);\n",
              "    box-shadow: 0 1px 2px rgba(60, 64, 67, 0.3), 0 1px 3px 1px rgba(60, 64, 67, 0.15);\n",
              "    fill: var(--button-hover-fill-color);\n",
              "  }\n",
              "\n",
              "  .colab-df-quickchart-complete:disabled,\n",
              "  .colab-df-quickchart-complete:disabled:hover {\n",
              "    background-color: var(--disabled-bg-color);\n",
              "    fill: var(--disabled-fill-color);\n",
              "    box-shadow: none;\n",
              "  }\n",
              "\n",
              "  .colab-df-spinner {\n",
              "    border: 2px solid var(--fill-color);\n",
              "    border-color: transparent;\n",
              "    border-bottom-color: var(--fill-color);\n",
              "    animation:\n",
              "      spin 1s steps(1) infinite;\n",
              "  }\n",
              "\n",
              "  @keyframes spin {\n",
              "    0% {\n",
              "      border-color: transparent;\n",
              "      border-bottom-color: var(--fill-color);\n",
              "      border-left-color: var(--fill-color);\n",
              "    }\n",
              "    20% {\n",
              "      border-color: transparent;\n",
              "      border-left-color: var(--fill-color);\n",
              "      border-top-color: var(--fill-color);\n",
              "    }\n",
              "    30% {\n",
              "      border-color: transparent;\n",
              "      border-left-color: var(--fill-color);\n",
              "      border-top-color: var(--fill-color);\n",
              "      border-right-color: var(--fill-color);\n",
              "    }\n",
              "    40% {\n",
              "      border-color: transparent;\n",
              "      border-right-color: var(--fill-color);\n",
              "      border-top-color: var(--fill-color);\n",
              "    }\n",
              "    60% {\n",
              "      border-color: transparent;\n",
              "      border-right-color: var(--fill-color);\n",
              "    }\n",
              "    80% {\n",
              "      border-color: transparent;\n",
              "      border-right-color: var(--fill-color);\n",
              "      border-bottom-color: var(--fill-color);\n",
              "    }\n",
              "    90% {\n",
              "      border-color: transparent;\n",
              "      border-bottom-color: var(--fill-color);\n",
              "    }\n",
              "  }\n",
              "</style>\n",
              "\n",
              "  <script>\n",
              "    async function quickchart(key) {\n",
              "      const quickchartButtonEl =\n",
              "        document.querySelector('#' + key + ' button');\n",
              "      quickchartButtonEl.disabled = true;  // To prevent multiple clicks.\n",
              "      quickchartButtonEl.classList.add('colab-df-spinner');\n",
              "      try {\n",
              "        const charts = await google.colab.kernel.invokeFunction(\n",
              "            'suggestCharts', [key], {});\n",
              "      } catch (error) {\n",
              "        console.error('Error during call to suggestCharts:', error);\n",
              "      }\n",
              "      quickchartButtonEl.classList.remove('colab-df-spinner');\n",
              "      quickchartButtonEl.classList.add('colab-df-quickchart-complete');\n",
              "    }\n",
              "    (() => {\n",
              "      let quickchartButtonEl =\n",
              "        document.querySelector('#df-3b427bab-e633-4efe-82f1-94d2f95c33cc button');\n",
              "      quickchartButtonEl.style.display =\n",
              "        google.colab.kernel.accessAllowed ? 'block' : 'none';\n",
              "    })();\n",
              "  </script>\n",
              "</div>\n",
              "\n",
              "  <div id=\"id_59a6e7db-4b04-41fb-bfbf-db4988d34043\">\n",
              "    <style>\n",
              "      .colab-df-generate {\n",
              "        background-color: #E8F0FE;\n",
              "        border: none;\n",
              "        border-radius: 50%;\n",
              "        cursor: pointer;\n",
              "        display: none;\n",
              "        fill: #1967D2;\n",
              "        height: 32px;\n",
              "        padding: 0 0 0 0;\n",
              "        width: 32px;\n",
              "      }\n",
              "\n",
              "      .colab-df-generate:hover {\n",
              "        background-color: #E2EBFA;\n",
              "        box-shadow: 0px 1px 2px rgba(60, 64, 67, 0.3), 0px 1px 3px 1px rgba(60, 64, 67, 0.15);\n",
              "        fill: #174EA6;\n",
              "      }\n",
              "\n",
              "      [theme=dark] .colab-df-generate {\n",
              "        background-color: #3B4455;\n",
              "        fill: #D2E3FC;\n",
              "      }\n",
              "\n",
              "      [theme=dark] .colab-df-generate:hover {\n",
              "        background-color: #434B5C;\n",
              "        box-shadow: 0px 1px 3px 1px rgba(0, 0, 0, 0.15);\n",
              "        filter: drop-shadow(0px 1px 2px rgba(0, 0, 0, 0.3));\n",
              "        fill: #FFFFFF;\n",
              "      }\n",
              "    </style>\n",
              "    <button class=\"colab-df-generate\" onclick=\"generateWithVariable('df')\"\n",
              "            title=\"Generate code using this dataframe.\"\n",
              "            style=\"display:none;\">\n",
              "\n",
              "  <svg xmlns=\"http://www.w3.org/2000/svg\" height=\"24px\"viewBox=\"0 0 24 24\"\n",
              "       width=\"24px\">\n",
              "    <path d=\"M7,19H8.4L18.45,9,17,7.55,7,17.6ZM5,21V16.75L18.45,3.32a2,2,0,0,1,2.83,0l1.4,1.43a1.91,1.91,0,0,1,.58,1.4,1.91,1.91,0,0,1-.58,1.4L9.25,21ZM18.45,9,17,7.55Zm-12,3A5.31,5.31,0,0,0,4.9,8.1,5.31,5.31,0,0,0,1,6.5,5.31,5.31,0,0,0,4.9,4.9,5.31,5.31,0,0,0,6.5,1,5.31,5.31,0,0,0,8.1,4.9,5.31,5.31,0,0,0,12,6.5,5.46,5.46,0,0,0,6.5,12Z\"/>\n",
              "  </svg>\n",
              "    </button>\n",
              "    <script>\n",
              "      (() => {\n",
              "      const buttonEl =\n",
              "        document.querySelector('#id_59a6e7db-4b04-41fb-bfbf-db4988d34043 button.colab-df-generate');\n",
              "      buttonEl.style.display =\n",
              "        google.colab.kernel.accessAllowed ? 'block' : 'none';\n",
              "\n",
              "      buttonEl.onclick = () => {\n",
              "        google.colab.notebook.generateWithVariable('df');\n",
              "      }\n",
              "      })();\n",
              "    </script>\n",
              "  </div>\n",
              "\n",
              "    </div>\n",
              "  </div>\n"
            ],
            "text/plain": [
              "    preprocessing__polynomial2__degree  preprocessing__polynomial__degree  \\\n",
              "2                                    1                                  3   \n",
              "33                                   4                                  4   \n",
              "12                                   2                                  3   \n",
              "43                                   5                                  4   \n",
              "22                                   3                                  3   \n",
              "..                                 ...                                ...   \n",
              "89                                   9                                 10   \n",
              "99                                  10                                 10   \n",
              "90                                  10                                  1   \n",
              "91                                  10                                  2   \n",
              "92                                  10                                  3   \n",
              "\n",
              "         score  \n",
              "2     0.557641  \n",
              "33    0.556932  \n",
              "12    0.556857  \n",
              "43    0.556414  \n",
              "22    0.554039  \n",
              "..         ...  \n",
              "89  -16.188760  \n",
              "99  -16.188760  \n",
              "90 -184.221203  \n",
              "91 -189.473656  \n",
              "92 -395.935956  \n",
              "\n",
              "[100 rows x 3 columns]"
            ]
          },
          "execution_count": 24,
          "metadata": {},
          "output_type": "execute_result"
        }
      ],
      "source": [
        "paramsdf = pd.DataFrame(gscv_fitted.cv_results_['params'])\n",
        "df = paramsdf.assign(score = gscv_fitted.cv_results_['mean_test_score']).sort_values(by = \"score\", ascending = False)\n",
        "df"
      ]
    },
    {
      "cell_type": "markdown",
      "metadata": {
        "id": "GUaL2Pi7eI6G"
      },
      "source": [
        " Which model performed the best?\n",
        "\n",
        " The model that performed best is the one that has the highest R squared value which can be seen by how we organized the df.\n",
        "\n",
        "Q2: What downsides do you see of trying all possible model options? How might you go about choosing a smaller number of tuning values to try?\n",
        "\n",
        "This could be very time consuming if you had a large number of variables and at some point might not be practical either."
      ]
    }
  ],
  "metadata": {
    "colab": {
      "provenance": []
    },
    "kernelspec": {
      "display_name": "Python 3",
      "name": "python3"
    },
    "language_info": {
      "name": "python"
    }
  },
  "nbformat": 4,
  "nbformat_minor": 0
}
