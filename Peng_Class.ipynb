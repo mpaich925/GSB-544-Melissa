{
  "nbformat": 4,
  "nbformat_minor": 0,
  "metadata": {
    "colab": {
      "provenance": []
    },
    "kernelspec": {
      "name": "python3",
      "display_name": "Python 3"
    },
    "language_info": {
      "name": "python"
    }
  },
  "cells": [
    {
      "cell_type": "markdown",
      "source": [
        "# Palmer Penguins Modeling\n",
        "\n",
        "Import the Palmer Penguins dataset and print out the first few rows.\n",
        "\n",
        "Suppose we want to predict `species` using the other variables in the dataset.\n",
        "\n",
        "**Dummify** all variables that require this."
      ],
      "metadata": {
        "id": "TxbDFsJARAMD"
      }
    },
    {
      "cell_type": "code",
      "source": [
        "!pip install palmerpenguins\n",
        "from palmerpenguins import load_penguins\n",
        "penguins = load_penguins()\n",
        "import pandas as pd\n",
        "import pandas as pd\n",
        "import numpy as np\n",
        "from sklearn.pipeline import Pipeline\n",
        "from sklearn.preprocessing import StandardScaler, OneHotEncoder, PolynomialFeatures\n",
        "from sklearn.linear_model import LinearRegression\n",
        "from sklearn.model_selection import train_test_split\n",
        "from sklearn.metrics import r2_score\n",
        "from sklearn.metrics import mean_squared_error\n",
        "from sklearn.pipeline import Pipeline\n",
        "from sklearn.neighbors import KNeighborsRegressor\n",
        "from sklearn.tree import DecisionTreeRegressor\n",
        "from sklearn.compose import make_column_selector, make_column_transformer\n",
        "from sklearn.compose import ColumnTransformer\n",
        "from sklearn.model_selection import cross_val_score"
      ],
      "metadata": {
        "id": "PAPiIN6wq9W0",
        "colab": {
          "base_uri": "https://localhost:8080/"
        },
        "outputId": "042389cb-d86e-4deb-8dce-c5cb21fd9172"
      },
      "execution_count": 1,
      "outputs": [
        {
          "output_type": "stream",
          "name": "stdout",
          "text": [
            "Collecting palmerpenguins\n",
            "  Downloading palmerpenguins-0.1.4-py3-none-any.whl.metadata (2.0 kB)\n",
            "Requirement already satisfied: pandas in /usr/local/lib/python3.10/dist-packages (from palmerpenguins) (2.2.2)\n",
            "Requirement already satisfied: numpy in /usr/local/lib/python3.10/dist-packages (from palmerpenguins) (1.26.4)\n",
            "Requirement already satisfied: python-dateutil>=2.8.2 in /usr/local/lib/python3.10/dist-packages (from pandas->palmerpenguins) (2.8.2)\n",
            "Requirement already satisfied: pytz>=2020.1 in /usr/local/lib/python3.10/dist-packages (from pandas->palmerpenguins) (2024.2)\n",
            "Requirement already satisfied: tzdata>=2022.7 in /usr/local/lib/python3.10/dist-packages (from pandas->palmerpenguins) (2024.2)\n",
            "Requirement already satisfied: six>=1.5 in /usr/local/lib/python3.10/dist-packages (from python-dateutil>=2.8.2->pandas->palmerpenguins) (1.16.0)\n",
            "Downloading palmerpenguins-0.1.4-py3-none-any.whl (17 kB)\n",
            "Installing collected packages: palmerpenguins\n",
            "Successfully installed palmerpenguins-0.1.4\n"
          ]
        }
      ]
    },
    {
      "cell_type": "code",
      "execution_count": 2,
      "metadata": {
        "id": "QV2uolyOQ65C"
      },
      "outputs": [],
      "source": [
        "# Code Here\n",
        "penguins.head()\n",
        "penguins = penguins.dropna()\n",
        "\n",
        "#do we need to make models for each?\n"
      ]
    },
    {
      "cell_type": "code",
      "source": [
        "X = penguins.drop(columns='species')\n",
        "y = penguins['species']\n",
        "\n",
        "ct = ColumnTransformer(\n",
        "  [\n",
        "    (\"dummify\", OneHotEncoder(sparse_output = False, handle_unknown='ignore'),\n",
        "    make_column_selector(dtype_include=object)),\n",
        "    (\"standardize\", StandardScaler(),\n",
        "    make_column_selector(dtype_include=np.number))\n",
        "  ],\n",
        "  remainder = \"passthrough\"\n",
        ")\n",
        "\n"
      ],
      "metadata": {
        "id": "f-sQdbPpIzxT"
      },
      "execution_count": 3,
      "outputs": []
    },
    {
      "cell_type": "code",
      "source": [
        "from sklearn.compose import ColumnTransformer, make_column_selector\n",
        "from sklearn.preprocessing import OneHotEncoder, StandardScaler\n",
        "from sklearn.pipeline import Pipeline\n",
        "from sklearn.neighbors import KNeighborsClassifier  # Use KNN for classification, not regression\n",
        "from sklearn.model_selection import train_test_split, StratifiedKFold, cross_val_predict\n",
        "from sklearn.metrics import (confusion_matrix, ConfusionMatrixDisplay,\n",
        "                             classification_report, roc_curve, auc, RocCurveDisplay)\n",
        "\n",
        "# Create the ColumnTransformer for preprocessing\n",
        "ct = ColumnTransformer(\n",
        "    [\n",
        "        (\"dummify\", OneHotEncoder(sparse_output=False, handle_unknown='ignore'),\n",
        "         make_column_selector(dtype_include=object)),\n",
        "        (\"standardize\", StandardScaler(), make_column_selector(dtype_include=np.number))\n",
        "    ],\n",
        "    remainder=\"passthrough\"\n",
        ")\n",
        "\n",
        "# Create the pipeline with KNN classifier\n",
        "knn_pipeline = Pipeline(\n",
        "    [\n",
        "        (\"preprocessing\", ct),\n",
        "        (\"knn\", KNeighborsClassifier(n_neighbors=5))\n",
        "    ]\n",
        ")\n"
      ],
      "metadata": {
        "id": "mSiGyW60LyxY"
      },
      "execution_count": 4,
      "outputs": []
    },
    {
      "cell_type": "code",
      "source": [
        "import pandas as pd\n",
        "import numpy as np\n",
        "from palmerpenguins import load_penguins\n",
        "from sklearn.compose import ColumnTransformer, make_column_selector\n",
        "from sklearn.preprocessing import OneHotEncoder, StandardScaler, label_binarize\n",
        "from sklearn.pipeline import Pipeline\n",
        "from sklearn.neighbors import KNeighborsClassifier\n",
        "from sklearn.model_selection import StratifiedKFold, cross_val_predict, cross_val_score\n",
        "from sklearn.metrics import (confusion_matrix, classification_report, roc_curve, auc, RocCurveDisplay)\n",
        "\n",
        "# Create the ColumnTransformer for preprocessing\n",
        "ct = ColumnTransformer(\n",
        "    [\n",
        "        (\"dummify\", OneHotEncoder(sparse_output=False, handle_unknown='ignore'),\n",
        "         make_column_selector(dtype_include=object)),\n",
        "        #(\"standardize\", StandardScaler(),\n",
        "    ],\n",
        "    remainder=\"passthrough\"\n",
        ")\n",
        "\n",
        "# Create the pipeline with KNN classifier\n",
        "knn_pipeline = Pipeline(\n",
        "    [\n",
        "        (\"preprocessing\", ct),\n",
        "        (\"knn\", KNeighborsClassifier(n_neighbors=5))\n",
        "    ]\n",
        ")\n",
        "\n",
        "# Perform cross-validated predictions\n",
        "y_pred_cv = cross_val_predict(knn_pipeline, X, y, cv=5)\n",
        "\n",
        "# Print confusion matrix and classification report\n",
        "cm = confusion_matrix(y, y_pred_cv)\n",
        "\n",
        "\n",
        "disp = ConfusionMatrixDisplay(confusion_matrix=cm, display_labels=np.unique(y))\n",
        "disp.plot(cmap='Blues')"
      ],
      "metadata": {
        "colab": {
          "base_uri": "https://localhost:8080/",
          "height": 467
        },
        "id": "qpawukNAODAK",
        "outputId": "e72fd290-8cea-44ec-c75b-792621ce164b"
      },
      "execution_count": 5,
      "outputs": [
        {
          "output_type": "execute_result",
          "data": {
            "text/plain": [
              "<sklearn.metrics._plot.confusion_matrix.ConfusionMatrixDisplay at 0x7aa59b673520>"
            ]
          },
          "metadata": {},
          "execution_count": 5
        },
        {
          "output_type": "display_data",
          "data": {
            "text/plain": [
              "<Figure size 640x480 with 2 Axes>"
            ],
            "image/png": "[encoded data removed]"
          },
          "metadata": {}
        }
      ]
    },
    {
      "cell_type": "markdown",
      "source": [
        "How to Read It SOURCE(GEMINI)\n",
        "\n",
        "Diagonal Elements: These represent the correct predictions. For example, the value 144 in the top-left cell indicates that 144 Adelie penguins were correctly classified as Adelie.\n",
        "\n",
        "Off-Diagonal Elements: These represent incorrect predictions. For example, the value 0 in the top-right cell means that no Adelie penguin was incorrectly classified as a Gentoo.\n",
        "\n",
        "Overall Performance:\n",
        "\n",
        "In this case, the model has performed very well, with most predictions being correct. The model is particularly good at classifying Gentoo penguins.\n",
        "\n",
        "Potential Issues:\n",
        "\n",
        "While the overall performance is high, it's worth noting that the model seems to have some difficulty distinguishing between Adelie and Chinstrap penguins. There are 2 instances where Adelie penguins were incorrectly classified as Chinstrap.\n",
        "\n",
        "Possible Improvements:\n",
        "\n",
        "Feature Engineering: Consider adding or modifying features that could better differentiate between Adelie and Chinstrap penguins.\n",
        "Model Selection: Try different classification algorithms to see if they can improve performance.\n",
        "Hyperparameter Tuning: Experiment with different hyperparameters of the current model to optimize its performance.\n",
        "By understanding the confusion matrix, you can gain valuable insights into your model's strengths and weaknesses, and take steps to improve its performance."
      ],
      "metadata": {
        "id": "CgkBdTpfPIxz"
      }
    },
    {
      "cell_type": "code",
      "source": [
        "cv_accuracy = cross_val_score(knn_pipeline, X, y, cv=5, scoring='accuracy')\n",
        "cv_accuracy.mean()"
      ],
      "metadata": {
        "colab": {
          "base_uri": "https://localhost:8080/"
        },
        "id": "MzDQAbsTP4Vv",
        "outputId": "4df93183-b7c2-415b-da99-743714c4df2a"
      },
      "execution_count": 6,
      "outputs": [
        {
          "output_type": "execute_result",
          "data": {
            "text/plain": [
              "0.7902306648575306"
            ]
          },
          "metadata": {},
          "execution_count": 6
        }
      ]
    },
    {
      "cell_type": "code",
      "source": [
        "from sklearn.metrics import classification_report, roc_curve, auc\n",
        "\n",
        "# Calculate classification report for each species\n",
        "print(classification_report(y, y_pred_cv, target_names=['Adelie', 'Chinstrap', 'Gentoo']))\n",
        "\n",
        "knn_pipeline.fit(X, y)\n",
        "\n",
        "# Now you can make predictions\n",
        "y_pred = knn_pipeline.predict(X)\n",
        "\n",
        "# If you want to get AUC, you will need to use predict_proba instead\n",
        "from sklearn.metrics import roc_auc_score\n",
        "y_pred_prob = knn_pipeline.predict_proba(X)\n",
        "\n",
        "# Calculate AUC (use label_binarize if needed for multi-class)\n",
        "from sklearn.preprocessing import label_binarize\n",
        "y_bin = label_binarize(y, classes=np.unique(y))\n",
        "y_pred_prob = knn_pipeline.predict_proba(X)\n",
        "#y_bin = label_binarize(y, classes=['Adelie', 'Chinstrap', 'Gentoo'])\n",
        "#auc_score = roc_auc_score(y_bin, y_pred_prob, average='macro', multi_class='ovr')\n",
        "#auc_score\n",
        "for i, species_name in enumerate(np.unique(y)):\n",
        "    print(f\"AUC score for {species_name}: {roc_auc_score(y_bin[:, i], y_pred_prob[:, i])}\")\n",
        "\n",
        "\n",
        "\n",
        "# Get predicted probabilities (instead of hard predictions)\n",
        "#y_pred_prob = knn_pipeline.predict_proba(X)  # replace model with your trained model\n",
        "\n",
        "# Calculate the AUC for each class and get the macro average\n",
        "\n",
        "#auc_score = roc_auc_score(y_bin, y_pred_prob, average='macro', multi_class='ovr')\n",
        "\n",
        "# Calculate ROC curve and AUC for each species\n",
        "#fpr, tpr, _ = roc_curve(y, y_pred_cv[:, 0], pos_label='Adelie')  # For Adelie\n",
        "#roc_auc = auc(fpr, tpr)\n",
        "#print('AUC for Adelie:', roc_auc)\n",
        "\n",
        "# Similarly, calculate for Chinstrap and Gentoo\n",
        "\n",
        "#AUC and ROC is what we are missing"
      ],
      "metadata": {
        "colab": {
          "base_uri": "https://localhost:8080/"
        },
        "id": "P6cb6KNwRorS",
        "outputId": "8850140a-0043-4a98-ef1d-f01d4ea6fece"
      },
      "execution_count": 15,
      "outputs": [
        {
          "output_type": "stream",
          "name": "stdout",
          "text": [
            "              precision    recall  f1-score   support\n",
            "\n",
            "      Adelie       0.74      0.86      0.79       146\n",
            "   Chinstrap       0.69      0.43      0.53        68\n",
            "      Gentoo       0.90      0.91      0.90       119\n",
            "\n",
            "    accuracy                           0.79       333\n",
            "   macro avg       0.78      0.73      0.74       333\n",
            "weighted avg       0.79      0.79      0.78       333\n",
            "\n",
            "AUC score for Adelie: 0.954050985275804\n",
            "AUC score for Chinstrap: 0.9468091009988902\n",
            "AUC score for Gentoo: 0.9937171130134297\n"
          ]
        }
      ]
    },
    {
      "cell_type": "markdown",
      "source": [
        "Let's use the other variables to predict `species`. Prepare your data and fit the following models on the entire dataset:\n",
        "\n",
        "* Two kNN models (for different values of K)\n",
        "* Two decision tree models (for different complexities of trees)\n",
        "\n",
        "Compute the following, for each of your models, on test data. Keep in mind that you may need to stratify your creation of the training and test data.\n",
        "\n",
        "* Confusion matrix\n",
        "* Overall Accuracy\n",
        "* Precision, Recall, AUC, and F1-score for each species\n",
        "\n",
        "Create one ROC plot for the species of your choice."
      ],
      "metadata": {
        "id": "HecNBVAnRHod"
      }
    },
    {
      "cell_type": "code",
      "source": [
        "# Code Here\n",
        "knn_pipeline = Pipeline(\n",
        "    [\n",
        "        (\"preprocessing\", ct),  # Use the same preprocessing steps as before\n",
        "        (\"knn\", KNeighborsClassifier(n_neighbors=5))  # Replace with your desired K value\n",
        "    ]\n",
        ")"
      ],
      "metadata": {
        "id": "U1onRGJQR8T_"
      },
      "execution_count": 8,
      "outputs": []
    },
    {
      "cell_type": "code",
      "source": [
        "knn_pipeline2 = Pipeline(\n",
        "    [\n",
        "        (\"preprocessing\", ct),\n",
        "        (\"knn\", KNeighborsClassifier(n_neighbors=10))  # Replace with your desired K value\n",
        "    ]\n",
        ")\n",
        "\n",
        "knn_pipeline2.fit(X, y)\n",
        "\n",
        "# Now you can make predictions\n",
        "y_pred = knn_pipeline2.predict(X)\n",
        "\n",
        "# If you want to get AUC, you will need to use predict_proba instead\n",
        "from sklearn.metrics import roc_auc_score\n",
        "y_pred_prob = knn_pipeline2.predict_proba(X)\n",
        "\n",
        "# Calculate AUC (use label_binarize if needed for multi-class)\n",
        "from sklearn.preprocessing import label_binarize\n",
        "y_bin = label_binarize(y, classes=np.unique(y))\n",
        "y_pred_prob = knn_pipeline2.predict_proba(X)\n",
        "#y_bin = label_binarize(y, classes=['Adelie', 'Chinstrap', 'Gentoo'])\n",
        "#auc_score = roc_auc_score(y_bin, y_pred_prob, average='macro', multi_class='ovr')\n",
        "#auc_score\n",
        "for i, species_name in enumerate(np.unique(y)):\n",
        "    print(f\"AUC score for {species_name}: {roc_auc_score(y_bin[:, i], y_pred_prob[:, i])}\")"
      ],
      "metadata": {
        "colab": {
          "base_uri": "https://localhost:8080/"
        },
        "id": "66xzKk2lJq76",
        "outputId": "2c493197-f0bb-46c2-a6c0-2df784c43a6c"
      },
      "execution_count": 17,
      "outputs": [
        {
          "output_type": "stream",
          "name": "stdout",
          "text": [
            "AUC score for Adelie: 0.918687275657461\n",
            "AUC score for Chinstrap: 0.8973917869034407\n",
            "AUC score for Gentoo: 0.9912824943061337\n"
          ]
        }
      ]
    },
    {
      "cell_type": "code",
      "source": [
        "from sklearn.tree import DecisionTreeClassifier\n",
        "tree_pipeline = Pipeline(\n",
        "    [\n",
        "        (\"preprocessing\", ct),\n",
        "        (\"tree\", DecisionTreeClassifier(max_depth =5))\n",
        "    ]\n",
        ")\n",
        "\n",
        "tree_pipeline.fit(X, y)\n",
        "\n",
        "# Now you can make predictions\n",
        "y_pred = tree_pipeline.predict(X)\n",
        "\n",
        "# If you want to get AUC, you will need to use predict_proba instead\n",
        "from sklearn.metrics import roc_auc_score\n",
        "y_pred_prob = tree_pipeline.predict_proba(X)\n",
        "\n",
        "# Calculate AUC (use label_binarize if needed for multi-class)\n",
        "from sklearn.preprocessing import label_binarize\n",
        "y_bin = label_binarize(y, classes=np.unique(y))\n",
        "y_pred_prob = tree_pipeline.predict_proba(X)\n",
        "#y_bin = label_binarize(y, classes=['Adelie', 'Chinstrap', 'Gentoo'])\n",
        "#auc_score = roc_auc_score(y_bin, y_pred_prob, average='macro', multi_class='ovr')\n",
        "#auc_score\n",
        "for i, species_name in enumerate(np.unique(y)):\n",
        "    print(f\"AUC score for {species_name}: {roc_auc_score(y_bin[:, i], y_pred_prob[:, i])}\")"
      ],
      "metadata": {
        "colab": {
          "base_uri": "https://localhost:8080/"
        },
        "id": "4VkUcYY4Jsmb",
        "outputId": "af84823d-94b2-4f23-e9b2-9f90be35134c"
      },
      "execution_count": 20,
      "outputs": [
        {
          "output_type": "stream",
          "name": "stdout",
          "text": [
            "AUC score for Adelie: 1.0\n",
            "AUC score for Chinstrap: 1.0\n",
            "AUC score for Gentoo: 1.0\n"
          ]
        }
      ]
    },
    {
      "cell_type": "code",
      "source": [
        "tree_pipeline = Pipeline(\n",
        "    [\n",
        "        (\"preprocessing\", ct),\n",
        "        (\"tree\", DecisionTreeClassifier(max_depth = 10))\n",
        "    ]\n",
        ")\n",
        "\n",
        "tree_pipeline.fit(X, y)\n",
        "\n",
        "# Now you can make predictions\n",
        "y_pred = tree_pipeline.predict(X)\n",
        "\n",
        "# If you want to get AUC, you will need to use predict_proba instead\n",
        "from sklearn.metrics import roc_auc_score\n",
        "y_pred_prob = tree_pipeline.predict_proba(X)\n",
        "\n",
        "# Calculate AUC (use label_binarize if needed for multi-class)\n",
        "from sklearn.preprocessing import label_binarize\n",
        "y_bin = label_binarize(y, classes=np.unique(y))\n",
        "y_pred_prob = tree_pipeline.predict_proba(X)\n",
        "#y_bin = label_binarize(y, classes=['Adelie', 'Chinstrap', 'Gentoo'])\n",
        "#auc_score = roc_auc_score(y_bin, y_pred_prob, average='macro', multi_class='ovr')\n",
        "#auc_score\n",
        "for i, species_name in enumerate(np.unique(y)):\n",
        "    print(f\"AUC score for {species_name}: {roc_auc_score(y_bin[:, i], y_pred_prob[:, i])}\")"
      ],
      "metadata": {
        "colab": {
          "base_uri": "https://localhost:8080/"
        },
        "id": "9ykii1CKKSa6",
        "outputId": "4887c2ab-74bd-434f-d2dc-50385976e5c0"
      },
      "execution_count": 22,
      "outputs": [
        {
          "output_type": "stream",
          "name": "stdout",
          "text": [
            "AUC score for Adelie: 1.0\n",
            "AUC score for Chinstrap: 1.0\n",
            "AUC score for Gentoo: 1.0\n"
          ]
        }
      ]
    }
  ]
}